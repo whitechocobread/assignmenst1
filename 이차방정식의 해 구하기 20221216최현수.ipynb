{
 "cells": [
  {
   "cell_type": "markdown",
   "id": "b1b68864",
   "metadata": {},
   "source": [
    "## 과제2 : 2차방적식의 해 구하기\n",
    "### 인공지능공학과 1학년\n",
    "#### 20221216 최현수"
   ]
  },
  {
   "cell_type": "code",
   "execution_count": 7,
   "id": "ec885dcc",
   "metadata": {},
   "outputs": [
    {
     "name": "stdout",
     "output_type": "stream",
     "text": [
      "[2차방정식의 실수 해 계산 프로그램]\n",
      "=====================================\n",
      "x에 대한 2차 방정식 ax^2 + bx + c = 0에서 \n",
      "상수 a, b, c 값을 차례로 입력하세요:2 2 -4\n",
      "입력한 2차방정식: 2x^2 + 2x + -4= 0 은\n",
      "---------------------------------------------------------\n",
      "2개의 실수해가 존재합니다, x =  1.0 x = -2.0\n",
      "=====================================\n"
     ]
    }
   ],
   "source": [
    "print('[2차방정식의 실수 해 계산 프로그램]\\n=====================================')\n",
    "\n",
    "\n",
    "a, b, c = map(int, input('x에 대한 2차 방정식 ax^2 + bx + c = 0에서 \\n상수 a, b, c 값을 차례로 입력하세요:' ).split())\n",
    "print('입력한 2차방정식: '+str(a)+'x^2 + '+str(b)+'x + '+str(c)+'= 0 은\\n---------------------------------------------------------' )\n",
    "d=b*b-4*a*c\n",
    "if d>0:\n",
    "    print('2개의 실수해가 존재합니다, x = ', (-b+(b*b-4*a*c)**(1/2))/(2*a),'x =' ,(-b-(b*b-4*a*c)**(1/2))/(2*a))\n",
    "elif d==0:\n",
    "    print('중근입니다', -b/(2*a))\n",
    "else:\n",
    "    print('실수해가 존재하지 않습니다')\n",
    "print('=====================================')\n",
    "\n"
   ]
  },
  {
   "cell_type": "markdown",
   "id": "b37c4b94",
   "metadata": {},
   "source": [
    "#### 과제 후기\n",
    "여러개의 변수 타입을 바꾸기위해 map을 사용했지만 오류가 났습니다.교수님이 보내주신 ppt를 보니 map(int(input())이 아니라 map(int,input())를 사용해야 한다는것을 알았습니다...."
   ]
  },
  {
   "cell_type": "code",
   "execution_count": null,
   "id": "a4e33bbc",
   "metadata": {},
   "outputs": [],
   "source": []
  }
 ],
 "metadata": {
  "kernelspec": {
   "display_name": "Python 3 (ipykernel)",
   "language": "python",
   "name": "python3"
  },
  "language_info": {
   "codemirror_mode": {
    "name": "ipython",
    "version": 3
   },
   "file_extension": ".py",
   "mimetype": "text/x-python",
   "name": "python",
   "nbconvert_exporter": "python",
   "pygments_lexer": "ipython3",
   "version": "3.9.7"
  }
 },
 "nbformat": 4,
 "nbformat_minor": 5
}
